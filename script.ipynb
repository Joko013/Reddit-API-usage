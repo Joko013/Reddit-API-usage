{
 "cells": [
  {
   "cell_type": "code",
   "execution_count": 1,
   "metadata": {
    "scrolled": true
   },
   "outputs": [
    {
     "data": {
      "text/plain": [
       "[{'created': '2018-02-05 07:54:59',\n",
       "  'link': 'https://clips.twitch.tv/WimpyTriumphantClamRaccAttack',\n",
       "  'title': 'GillyWut'},\n",
       " {'created': '2018-02-05 07:20:09',\n",
       "  'link': 'https://clips.twitch.tv/GorgeousAntsyMangoShazBotstix?tt_medium=redt',\n",
       "  'title': \"Quack shares Fnatic's secret to winning\"},\n",
       " {'created': '2018-02-05 01:13:23',\n",
       "  'link': 'https://clips.twitch.tv/UnusualBoredDoveGOWSkull',\n",
       "  'title': 'Sylvannas trait should be removed'},\n",
       " {'created': '2018-02-05 00:02:46',\n",
       "  'link': 'https://clips.twitch.tv/CloudyGenerousLeopardEleGiggle',\n",
       "  'title': 'Hello, can we fix this map some how? cause it esport map.'},\n",
       " {'created': '2018-02-04 21:53:51',\n",
       "  'link': 'https://clips.twitch.tv/CogentCarelessGaurKevinTurtle?tt_medium=redt',\n",
       "  'title': '장내가 함성으로 가득찼던 그 장면!'},\n",
       " {'created': '2018-02-04 21:33:17',\n",
       "  'link': 'https://clips.twitch.tv/ColdbloodedDifficultSnakeTheTarFu',\n",
       "  'title': 'Blizzard be like..NERF CHEN !!! (HGC)'},\n",
       " {'created': '2018-02-04 20:48:55',\n",
       "  'link': 'https://clips.twitch.tv/BrainyUnsightlyEggHotPokket?tt_medium=redt',\n",
       "  'title': '베스트 용의 화살..!'},\n",
       " {'created': '2018-02-04 09:40:03',\n",
       "  'link': 'https://clips.twitch.tv/HeadstrongCharmingVampireDerp',\n",
       "  'title': 'GFEfury is ready to jam.'},\n",
       " {'created': '2018-02-04 05:26:55',\n",
       "  'link': 'https://clips.twitch.tv/GentlePunchyEggnogDatBoi',\n",
       "  'title': 'Ping Pong with ZEACris'},\n",
       " {'created': '2018-02-04 05:25:24',\n",
       "  'link': 'https://clips.twitch.tv/DoubtfulStormyWombatAMPEnergy',\n",
       "  'title': 'The Great Core Fiesta feat. Method and Zealots'},\n",
       " {'created': '2018-02-04 04:56:39',\n",
       "  'link': 'https://clips.twitch.tv/ProductiveHonestCardNomNom',\n",
       "  'title': 'Hilarious Finish (Method vs Zealots HGC Spoilers)'},\n",
       " {'created': '2018-02-03 23:42:31',\n",
       "  'link': 'https://clips.twitch.tv/WildObservantWaffleHoneyBadger',\n",
       "  'title': 'Lets appreciate this amazing bodyblock on tracer pulse bomb from GFEakaface in yesterday game vs SSG [Spoiler](#s)'},\n",
       " {'created': '2018-02-03 16:35:09',\n",
       "  'link': 'https://clips.twitch.tv/PatientFilthyMallardWholeWheat',\n",
       "  'title': 'Beetlehunter 1v2 vs. Psalm and Kure'},\n",
       " {'created': '2018-02-03 03:26:44',\n",
       "  'link': 'https://clips.twitch.tv/ZanyDeafParrotKappa',\n",
       "  'title': 'Quick Math'},\n",
       " {'created': '2018-02-03 02:58:52',\n",
       "  'link': 'https://clips.twitch.tv/PlumpTriumphantCarrotNononoCat',\n",
       "  'title': \"Probably the The Best Varian vs Illidan duel I've had\"},\n",
       " {'created': '2018-02-03 00:23:52',\n",
       "  'link': 'https://clips.twitch.tv/QuaintCrypticNikudonTBTacoRight?tt_medium=redt',\n",
       "  'title': '\"Soo, don\\'t need to Sound Barrier\" Bakery'},\n",
       " {'created': '2018-02-02 22:28:06',\n",
       "  'link': 'https://clips.twitch.tv/SoftChillyKiwiYouDontSay',\n",
       "  'title': 'Spoiler: HGC KR: Amazing Boss Steal GLuck vs Miracle'},\n",
       " {'created': '2018-02-02 21:10:15',\n",
       "  'link': 'https://clips.twitch.tv/FancySourKoalaKeepo?tt_medium=redt',\n",
       "  'title': 'HGC KR 2주차 하이라이트!'},\n",
       " {'created': '2018-02-02 21:02:15',\n",
       "  'link': 'https://www.twitch.tv/videos/224634474?t=00h54m30s',\n",
       "  'title': 'When to get camps by Grubby (timestamp at 54:30)'},\n",
       " {'created': '2018-02-02 19:32:49',\n",
       "  'link': 'https://clips.twitch.tv/TardyEntertainingEggplantMVGame',\n",
       "  'title': 'Lovare Hero League match 3:33 finish.'},\n",
       " {'created': '2018-02-02 19:11:11',\n",
       "  'link': 'https://clips.twitch.tv/EvilModernRadishCharlieBitMe?tt_medium=redt',\n",
       "  'title': '2주차 하이라이트'},\n",
       " {'created': '2018-02-02 16:53:57',\n",
       "  'link': 'https://clips.twitch.tv/AbstruseFaintCougarNerfBlueBlaster',\n",
       "  'title': \"They're just dumb.\"},\n",
       " {'created': '2018-02-02 10:42:47',\n",
       "  'link': 'https://clips.twitch.tv/TenuousFuriousCarrot4Head',\n",
       "  'title': 'When you finally master that Timely Surprise Temporal Loop combo!'},\n",
       " {'created': '2018-02-02 10:31:24',\n",
       "  'link': 'https://www.twitch.tv/videos/224548394',\n",
       "  'title': 'Machine Gun Tyrande bug before the start of a match'}]"
      ]
     },
     "execution_count": 1,
     "metadata": {},
     "output_type": "execute_result"
    }
   ],
   "source": [
    "import time\n",
    "import praw\n",
    "import csv\n",
    "import pandas as pd\n",
    "import reddit\n",
    "\n",
    "query = 'twitch'\n",
    "#\"(and ups:10..99 (not site:'twitch.tv'))\"\n",
    "sub = reddit.hots_sub(\"02.02.2018\",\"05.02.2018\", query )\n",
    "sub.get_twitch_links(export = True)\n",
    "\n"
   ]
  },
  {
   "cell_type": "code",
   "execution_count": 4,
   "metadata": {
    "collapsed": true,
    "scrolled": true
   },
   "outputs": [],
   "source": []
  }
 ],
 "metadata": {
  "kernelspec": {
   "display_name": "Python 3",
   "language": "python",
   "name": "python3"
  },
  "language_info": {
   "codemirror_mode": {
    "name": "ipython",
    "version": 3
   },
   "file_extension": ".py",
   "mimetype": "text/x-python",
   "name": "python",
   "nbconvert_exporter": "python",
   "pygments_lexer": "ipython3",
   "version": "3.6.1"
  }
 },
 "nbformat": 4,
 "nbformat_minor": 2
}
